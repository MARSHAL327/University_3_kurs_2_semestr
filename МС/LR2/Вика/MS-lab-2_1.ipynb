{
 "cells": [
  {
   "cell_type": "code",
   "execution_count": 14,
   "metadata": {},
   "outputs": [],
   "source": [
    "import math\n",
    "import matplotlib.pyplot as plt"
   ]
  },
  {
   "cell_type": "code",
   "execution_count": 21,
   "metadata": {},
   "outputs": [
    {
     "name": "stdout",
     "output_type": "stream",
     "text": [
      "1.0\n",
      "1.25\n"
     ]
    }
   ],
   "source": [
    "_lambda = 0.8\n",
    "b = 1.0\n",
    "mu = 1/b\n",
    "print(mu)\n",
    "a = 1/_lambda\n",
    "print(a)"
   ]
  },
  {
   "cell_type": "code",
   "execution_count": 22,
   "metadata": {},
   "outputs": [
    {
     "data": {
      "text/plain": [
       "0.8"
      ]
     },
     "execution_count": 22,
     "metadata": {},
     "output_type": "execute_result"
    }
   ],
   "source": [
    "_p = _lambda/mu\n",
    "_p"
   ]
  },
  {
   "cell_type": "code",
   "execution_count": 23,
   "metadata": {},
   "outputs": [
    {
     "name": "stdout",
     "output_type": "stream",
     "text": [
      "0.19999999999999996\n",
      "0.15999999999999998\n"
     ]
    }
   ],
   "source": [
    "P = list(range(0, 11))\n",
    "P[0] = 1 - _p\n",
    "P[1] = _p*P[0]\n",
    "print(P[0])\n",
    "print(P[1])"
   ]
  },
  {
   "cell_type": "code",
   "execution_count": 24,
   "metadata": {
    "scrolled": true
   },
   "outputs": [
    {
     "name": "stdout",
     "output_type": "stream",
     "text": [
      "1 : 0.31999999999999995\n",
      "2 : 0.5759999999999998\n",
      "3 : 0.7807999999999998\n",
      "4 : 0.9446399999999998\n",
      "5 : 1.0757119999999998\n",
      "6 : 1.1805695999999997\n",
      "7 : 1.2644556799999997\n",
      "8 : 1.331564544\n",
      "9 : 1.3852516352\n",
      "10 : 1.4282013081599998\n"
     ]
    }
   ],
   "source": [
    "for n in range(1, 11):\n",
    "    P[n] = P[1] + _p*P[n-1]\n",
    "    print(n,\":\",P[n])"
   ]
  },
  {
   "cell_type": "code",
   "execution_count": 25,
   "metadata": {},
   "outputs": [
    {
     "data": {
      "text/plain": [
       "4.000000000000001"
      ]
     },
     "execution_count": 25,
     "metadata": {},
     "output_type": "execute_result"
    }
   ],
   "source": [
    "m = _p/ (1 - _p)\n",
    "m\n",
    "#Среднее и дисперсия числа заявок в системе определяются"
   ]
  },
  {
   "cell_type": "code",
   "execution_count": 26,
   "metadata": {},
   "outputs": [
    {
     "data": {
      "text/plain": [
       "20.00000000000001"
      ]
     },
     "execution_count": 26,
     "metadata": {},
     "output_type": "execute_result"
    }
   ],
   "source": [
    "sigmaPow = _p/((1 - _p)**2)\n",
    "sigma = math.sqrt(sigmaPow)\n",
    "sigmaPow"
   ]
  },
  {
   "cell_type": "code",
   "execution_count": 27,
   "metadata": {},
   "outputs": [
    {
     "name": "stdout",
     "output_type": "stream",
     "text": [
      "3.2000000000000015\n",
      "4.308131845707604\n"
     ]
    }
   ],
   "source": [
    "#Среднее и дисперсия числа заявок, находящихся в очереди к прибору\n",
    "l = _p**2/(1 - _p)\n",
    "print(l)\n",
    "sigmaLPow = _p**2 * (1 + _p - _p**2)/(1 - _p)**2\n",
    "sigmaL = math.sqrt(sigmaLPow)\n",
    "print(sigmaL)"
   ]
  },
  {
   "cell_type": "code",
   "execution_count": 28,
   "metadata": {},
   "outputs": [
    {
     "data": {
      "text/plain": [
       "2.25"
      ]
     },
     "execution_count": 28,
     "metadata": {},
     "output_type": "execute_result"
    }
   ],
   "source": [
    "length = 50;\n",
    "Q = list(range(0, length))\n",
    "dt = a + b\n",
    "dt"
   ]
  },
  {
   "cell_type": "code",
   "execution_count": 29,
   "metadata": {},
   "outputs": [
    {
     "name": "stdout",
     "output_type": "stream",
     "text": [
      "0 : 0.0\n",
      "1 : 0.36237184837822667\n",
      "2 : 0.5934303402594008\n",
      "3 : 0.7407597393541083\n",
      "4 : 0.8347011117784133\n",
      "5 : 0.8946007754381355\n",
      "6 : 0.9327944872602502\n",
      "7 : 0.9571478731329598\n",
      "8 : 0.9726762775527074\n",
      "9 : 0.9825776253605064\n",
      "10 : 0.9888910034617577\n",
      "11 : 0.9929165910709479\n",
      "12 : 0.9954834190573874\n",
      "13 : 0.9971201008419117\n",
      "14 : 0.9981636952229711\n",
      "15 : 0.9988291203792088\n",
      "16 : 0.9992534141916233\n",
      "17 : 0.9995239558709778\n",
      "18 : 0.9996964608619211\n",
      "19 : 0.999806454900442\n",
      "20 : 0.9998765901959134\n",
      "21 : 0.9999213104347282\n",
      "22 : 0.9999498253179439\n",
      "23 : 0.9999680072102223\n",
      "24 : 0.9999796004965888\n",
      "25 : 0.9999869927023459\n",
      "26 : 0.9999917061808392\n",
      "27 : 0.9999947116274186\n",
      "28 : 0.9999966279847659\n",
      "29 : 0.999997849908159\n",
      "30 : 0.9999986290409136\n",
      "31 : 0.9999991258378917\n",
      "32 : 0.9999994426096307\n",
      "33 : 0.9999996445922091\n",
      "34 : 0.9999997733819872\n",
      "35 : 0.9999998555019753\n",
      "36 : 0.9999999078639916\n",
      "37 : 0.9999999412514873\n",
      "38 : 0.9999999625402944\n",
      "39 : 0.9999999761146372\n",
      "40 : 0.9999999847700203\n",
      "41 : 0.9999999902889362\n",
      "42 : 0.9999999938079523\n",
      "43 : 0.999999996051776\n",
      "44 : 0.9999999974825012\n",
      "45 : 0.9999999983947719\n",
      "46 : 0.9999999989764614\n",
      "47 : 0.999999999347363\n",
      "48 : 0.9999999995838602\n",
      "49 : 0.9999999997346576\n"
     ]
    }
   ],
   "source": [
    "\n",
    "for t in range(0, length):\n",
    "    Q[t] = 1 - (math.e ** (-mu*(1 - _p)*t*dt))\n",
    "    print(t,\":\",Q[t])"
   ]
  },
  {
   "cell_type": "code",
   "execution_count": 30,
   "metadata": {
    "scrolled": true
   },
   "outputs": [
    {
     "data": {
      "image/png": "[encoded data removed]",
      "text/plain": [
       "<Figure size 432x288 with 1 Axes>"
      ]
     },
     "metadata": {},
     "output_type": "display_data"
    }
   ],
   "source": [
    "plt.plot(Q, 'bo')\n",
    "plt.ylabel('Q(t)')\n",
    "plt.show()"
   ]
  },
  {
   "cell_type": "code",
   "execution_count": 12,
   "metadata": {},
   "outputs": [
    {
     "data": {
      "text/plain": [
       "190.00000000000026"
      ]
     },
     "execution_count": 12,
     "metadata": {},
     "output_type": "execute_result"
    }
   ],
   "source": [
    "u = 1/ (mu*(1 - _p))\n",
    "u\n",
    "#Среднее и дисперсия времени пребывания заявки в системе рассчитывается "
   ]
  },
  {
   "cell_type": "code",
   "execution_count": 13,
   "metadata": {},
   "outputs": [
    {
     "data": {
      "text/plain": [
       "190.00000000000026"
      ]
     },
     "execution_count": 13,
     "metadata": {},
     "output_type": "execute_result"
    }
   ],
   "source": [
    "sigmaUPow = 1/ ((mu*(1 - _p))**2)\n",
    "sigmaU = math.sqrt(sigmaUPow)\n",
    "sigmaU"
   ]
  },
  {
   "cell_type": "code",
   "execution_count": null,
   "metadata": {},
   "outputs": [],
   "source": []
  }
 ],
 "metadata": {
  "kernelspec": {
   "display_name": "Python 3",
   "language": "python",
   "name": "python3"
  },
  "language_info": {
   "codemirror_mode": {
    "name": "ipython",
    "version": 3
   },
   "file_extension": ".py",
   "mimetype": "text/x-python",
   "name": "python",
   "nbconvert_exporter": "python",
   "pygments_lexer": "ipython3",
   "version": "3.6.5"
  }
 },
 "nbformat": 4,
 "nbformat_minor": 4
}
